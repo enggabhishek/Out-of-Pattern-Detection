{
 "cells": [
  {
   "cell_type": "code",
   "execution_count": 1,
   "id": "981f7332",
   "metadata": {},
   "outputs": [
    {
     "name": "stdout",
     "output_type": "stream",
     "text": [
      "            Time Stamp       Code                    Event ID Message Code  \\\n",
      "0  2022-12-20 23:59:57  DDV1_HTTP   1K6I11BQJXAZ5GATCAT7NAQK6    DDV1_HTTP   \n",
      "1  2022-12-20 23:59:57  DDV1_HTTP   506MQMEOM1J51MJGM0Y8DJW75    DDV1_HTTP   \n",
      "2  2022-12-20 23:59:57  DDV1_HTTP    BEFYAYKLU6TGR0VBME6W793N    DDV1_HTTP   \n",
      "3  2022-12-20 23:59:57  DDV1_HTTP  1FLBE1RBUZ14L1N5BB5WMK0HXN    DDV1_HTTP   \n",
      "4  2022-12-20 23:59:57  DDV1_HTTP    ZKVYGLLSDYM1VOVCYZ682ODU    DDV1_HTTP   \n",
      "\n",
      "                     Event ID                  Event Time  \\\n",
      "0   1K6I11BQJXAZ5GATCAT7NAQK6  2022-12-20T23:59:40.072906   \n",
      "1   506MQMEOM1J51MJGM0Y8DJW75  2022-12-20T23:59:41.122752   \n",
      "2    BEFYAYKLU6TGR0VBME6W793N  2022-12-20T23:59:41.845658   \n",
      "3  1FLBE1RBUZ14L1N5BB5WMK0HXN  2022-12-20T23:59:42.237494   \n",
      "4    ZKVYGLLSDYM1VOVCYZ682ODU    2022-12-20T23:59:42.3797   \n",
      "\n",
      "                    Ingest Time                  Request ID      Source IP  \\\n",
      "0  2022-12-20T23:59:57.1959139Z   1K6I11BQJXAZ5GATCAT7NAQK6  62.48.164.172   \n",
      "1  2022-12-20T23:59:57.1959174Z   506MQMEOM1J51MJGM0Y8DJW75  62.48.164.172   \n",
      "2  2022-12-20T23:59:57.1959177Z    BEFYAYKLU6TGR0VBME6W793N  62.48.164.170   \n",
      "3  2022-12-20T23:59:57.1959181Z  1FLBE1RBUZ14L1N5BB5WMK0HXN  62.48.164.172   \n",
      "4  2022-12-20T23:59:57.1959184Z    ZKVYGLLSDYM1VOVCYZ682ODU  62.48.164.172   \n",
      "\n",
      "  HTTP Method  ...                    HTTP Auth Hash              Resource  \\\n",
      "0         GET  ...  39b62cf39a9c8177ad14f4e04a1fbf6e  DocumentResource.get   \n",
      "1         GET  ...  39b62cf39a9c8177ad14f4e04a1fbf6e      TaskResource.get   \n",
      "2         GET  ...  5191d6faa9b002d0e2d3286627958342      TaskResource.get   \n",
      "3         GET  ...  39b62cf39a9c8177ad14f4e04a1fbf6e  DocumentResource.get   \n",
      "4         GET  ...  39b62cf39a9c8177ad14f4e04a1fbf6e      TaskResource.get   \n",
      "\n",
      "         Resource Class       Resource Method  \\\n",
      "0  DocumentResource.get  DocumentResource.get   \n",
      "1      TaskResource.get      TaskResource.get   \n",
      "2      TaskResource.get      TaskResource.get   \n",
      "3  DocumentResource.get  DocumentResource.get   \n",
      "4      TaskResource.get      TaskResource.get   \n",
      "\n",
      "                           Organization  \\\n",
      "0  6b1faf26-cb89-4cc0-a158-d494e1c664cd   \n",
      "1  6b1faf26-cb89-4cc0-a158-d494e1c664cd   \n",
      "2                      lara.andrade-org   \n",
      "3  6b1faf26-cb89-4cc0-a158-d494e1c664cd   \n",
      "4  6b1faf26-cb89-4cc0-a158-d494e1c664cd   \n",
      "\n",
      "                                        App  User  \\\n",
      "0  6b1faf26-cb89-4cc0-a158-d494e1c664cd_app  None   \n",
      "1  6b1faf26-cb89-4cc0-a158-d494e1c664cd_app  None   \n",
      "2                      lara.andrade-org_app  None   \n",
      "3  6b1faf26-cb89-4cc0-a158-d494e1c664cd_app  None   \n",
      "4  6b1faf26-cb89-4cc0-a158-d494e1c664cd_app  None   \n",
      "\n",
      "                                     Entity           Timestamp Request  \\\n",
      "0  6b1faf26-cb89-4cc0-a158-d494e1c664cd_app  2022-12-20 23:59:39.898420   \n",
      "1  6b1faf26-cb89-4cc0-a158-d494e1c664cd_app  2022-12-20 23:59:41.027868   \n",
      "2                      lara.andrade-org_app  2022-12-20 23:59:41.843876   \n",
      "3  6b1faf26-cb89-4cc0-a158-d494e1c664cd_app  2022-12-20 23:59:42.122818   \n",
      "4  6b1faf26-cb89-4cc0-a158-d494e1c664cd_app  2022-12-20 23:59:42.301735   \n",
      "\n",
      "           Timestamp Response  \n",
      "0  2022-12-20 23:59:40.072906  \n",
      "1  2022-12-20 23:59:41.122752  \n",
      "2  2022-12-20 23:59:41.845658  \n",
      "3  2022-12-20 23:59:42.237494  \n",
      "4  2022-12-20 23:59:42.379700  \n",
      "\n",
      "[5 rows x 22 columns]\n"
     ]
    }
   ],
   "source": [
    "#=======================================Created by Rahul Agarwal===========================================\n",
    "import os\n",
    "import glob\n",
    "import json\n",
    "import re\n",
    "import pandas as pd\n",
    "import matplotlib.pyplot as plt\n",
    "import seaborn as sns\n",
    "log_data = []\n",
    "folder = 'LogFiles/'\n",
    "for root, dirs, files in os.walk(folder):\n",
    "    for file in files:\n",
    "        if file.endswith(\".log\"):\n",
    "            file_path = os.path.join(root, file)\n",
    "            with open(file_path, \"r\") as f:\n",
    "                for line in f:\n",
    "                    match = re.match(r'(\\d{4}-\\d{2}-\\d{2}\\s\\d{2}:\\d{2}:\\d{2}),(\\w+),(\\w+),({.+})', line)\n",
    "                    if match:\n",
    "                        timestamp, code, event_id, payload = match.groups()\n",
    "                        try:\n",
    "                            payload_json = json.loads(payload)\n",
    "                            nested_json = json.loads(payload_json[\"b64Payload\"])\n",
    "\n",
    "                            log_data.append([\n",
    "                                timestamp, code, event_id,\n",
    "                                payload_json[\"MessageCode\"],\n",
    "                                payload_json[\"EventId\"],\n",
    "                                payload_json[\"EventTime\"],\n",
    "                                payload_json[\"IngestTime\"],\n",
    "                                nested_json[\"requestId\"],\n",
    "                                nested_json[\"sourceIp\"],\n",
    "                                nested_json[\"httpMethod\"],\n",
    "                                nested_json[\"httpUrl\"],\n",
    "                                nested_json[\"httpAuth\"],\n",
    "                                nested_json[\"httpAuthHash\"],\n",
    "                                nested_json[\"resource\"],\n",
    "                                nested_json[\"resourceClass\"],\n",
    "                                nested_json[\"resourceMethod\"],\n",
    "                                nested_json[\"organization\"],\n",
    "                                nested_json[\"app\"],\n",
    "                                nested_json[\"user\"],\n",
    "                                nested_json[\"entity\"],\n",
    "                                nested_json[\"timestamp_req\"],\n",
    "                                nested_json[\"timestamp_resp\"]\n",
    "                            ])\n",
    "                        except (ValueError, KeyError):\n",
    "                            print(f\"Failed to parse payload: {payload}\")\n",
    "                    else:\n",
    "                        print(\"No match found\")\n",
    "\n",
    "df = pd.DataFrame(log_data, columns=[\"Time Stamp\", \"Code\", \"Event ID\", \"Message Code\", \"Event ID\", \"Event Time\", \"Ingest Time\", \n",
    "                                     \"Request ID\", \"Source IP\", \"HTTP Method\", \"HTTP Url\", \"HTTP Auth\", \"HTTP Auth Hash\", \n",
    "                                     \"Resource\", \"Resource Class\", \"Resource Method\", \"Organization\", \"App\", \"User\", \"Entity\", \n",
    "                                     \"Timestamp Request\", \"Timestamp Response\"])\n",
    "print(df.head())\n",
    "#=======================================Created by Rahul Agarwal==========================================="
   ]
  },
  {
   "cell_type": "code",
   "execution_count": 2,
   "id": "3fc65432",
   "metadata": {},
   "outputs": [
    {
     "data": {
      "text/plain": [
       "Time Stamp            object\n",
       "Code                  object\n",
       "Event ID              object\n",
       "Message Code          object\n",
       "Event ID              object\n",
       "Event Time            object\n",
       "Ingest Time           object\n",
       "Request ID            object\n",
       "Source IP             object\n",
       "HTTP Method           object\n",
       "HTTP Url              object\n",
       "HTTP Auth             object\n",
       "HTTP Auth Hash        object\n",
       "Resource              object\n",
       "Resource Class        object\n",
       "Resource Method       object\n",
       "Organization          object\n",
       "App                   object\n",
       "User                  object\n",
       "Entity                object\n",
       "Timestamp Request     object\n",
       "Timestamp Response    object\n",
       "dtype: object"
      ]
     },
     "execution_count": 2,
     "metadata": {},
     "output_type": "execute_result"
    }
   ],
   "source": [
    "df.dtypes"
   ]
  },
  {
   "cell_type": "code",
   "execution_count": 4,
   "id": "52694471",
   "metadata": {},
   "outputs": [
    {
     "name": "stdout",
     "output_type": "stream",
     "text": [
      "Shape: (6194985, 22)\n"
     ]
    }
   ],
   "source": [
    "print(\"Shape:\", df.shape)"
   ]
  },
  {
   "cell_type": "code",
   "execution_count": 2,
   "id": "edcc56e3",
   "metadata": {},
   "outputs": [],
   "source": [
    "#=======================================Created by Fnu Abhishek===========================================\n",
    "columns_to_drop = ['Time Stamp', 'Event ID', 'Message Code', 'Code', 'Request ID', 'HTTP Auth Hash', 'Resource Class', \n",
    "                   'Resource Method', 'Entity', 'App', 'User']  \n",
    "df_clean = df.drop(columns=columns_to_drop)\n",
    "#==================================================================================================="
   ]
  },
  {
   "cell_type": "code",
   "execution_count": 8,
   "id": "a31946b7",
   "metadata": {},
   "outputs": [
    {
     "name": "stdout",
     "output_type": "stream",
     "text": [
      "Missing Values:\n",
      " Event Time                 0\n",
      "Ingest Time                0\n",
      "Source IP                  0\n",
      "HTTP Method                0\n",
      "HTTP Url                   0\n",
      "HTTP Auth                  0\n",
      "Resource              403440\n",
      "Organization          403453\n",
      "Timestamp Request          0\n",
      "Timestamp Response         0\n",
      "dtype: int64\n"
     ]
    }
   ],
   "source": [
    "#=================================Created by Rahul Agarwal================================================\n",
    "missing_values = df_clean.isnull().sum()\n",
    "print(\"Missing Values:\\n\", missing_values)\n",
    "#=========================================================================================================="
   ]
  },
  {
   "cell_type": "code",
   "execution_count": 3,
   "id": "ffb245b8",
   "metadata": {},
   "outputs": [
    {
     "name": "stdout",
     "output_type": "stream",
     "text": [
      "Shape: (6142116, 10)\n"
     ]
    }
   ],
   "source": [
    "#============================================Drop Missing Values created by Rahul Agarwal===========================================\n",
    "df_clean.dropna(inplace=True)\n",
    "print(\"Shape:\", df_clean.shape)\n",
    "#=========================================================================================================="
   ]
  },
  {
   "cell_type": "code",
   "execution_count": 7,
   "id": "c023988f",
   "metadata": {},
   "outputs": [
    {
     "data": {
      "text/plain": [
       "Event Time            datetime64[ns]\n",
       "Ingest Time           datetime64[ns]\n",
       "Source IP                     object\n",
       "HTTP Method                   object\n",
       "HTTP Url                      object\n",
       "HTTP Auth                     object\n",
       "Resource                      object\n",
       "Organization                  object\n",
       "Timestamp Request     datetime64[ns]\n",
       "Timestamp Response    datetime64[ns]\n",
       "dtype: object"
      ]
     },
     "execution_count": 7,
     "metadata": {},
     "output_type": "execute_result"
    }
   ],
   "source": [
    "#=====================Created by Rahul Agarwal===============================================\n",
    "# Define datatypes:\n",
    "dtypes = {'Event Time': 'datetime64[ns]',\n",
    "          'Ingest Time': 'datetime64[ns]',\n",
    "          'Timestamp Request': 'datetime64[ns]',\n",
    "          'Timestamp Response': 'datetime64[ns]'}\n",
    "\n",
    "# Convert the columns to their respective datatypes:\n",
    "df_clean = df_clean.astype(dtypes)\n",
    "df_clean.dtypes\n",
    "df1 = df_clean\n",
    "#===================================================================================================="
   ]
  },
  {
   "cell_type": "code",
   "execution_count": 8,
   "id": "72691ec9",
   "metadata": {},
   "outputs": [],
   "source": [
    "# Create a new column for the response time between 'Timestamp Response' and 'Timestamp Request'\n",
    "df_clean['Response_Time'] = df_clean['Timestamp Response'] - df_clean['Timestamp Request']"
   ]
  },
  {
   "cell_type": "code",
   "execution_count": null,
   "id": "064cc1ca",
   "metadata": {},
   "outputs": [],
   "source": [
    "#=============================Created by Ziqi zhu================================================\n",
    "df.to_csv('df.csv', index=False)\n",
    "#======================================================================================================"
   ]
  },
  {
   "cell_type": "code",
   "execution_count": 41,
   "id": "3463bf56",
   "metadata": {
    "scrolled": false
   },
   "outputs": [
    {
     "data": {
      "image/png": "[encoded data removed]",
      "text/plain": [
       "<Figure size 1000x600 with 1 Axes>"
      ]
     },
     "metadata": {},
     "output_type": "display_data"
    }
   ],
   "source": [
    "# EDA 2: Response Time Distribution in Seconds:\n",
    "import matplotlib.pyplot as plt\n",
    "import seaborn as sns\n",
    "# Convert response time to seconds\n",
    "df1['Response_Time_Seconds'] = df1['Response_Time'].dt.total_seconds()\n",
    "\n",
    "# Plotting response time distribution\n",
    "fig, ax = plt.subplots(figsize=(10, 6))\n",
    "\n",
    "# Create a density plot\n",
    "sns.kdeplot(df1['Response_Time_Seconds'], shade=True, color='blue', ax=ax)\n",
    "\n",
    "# Create a histogram with logarithmic scale on the y-axis\n",
    "ax.hist(df1['Response_Time_Seconds'], bins=20, alpha=0.5, density=True, log=True, color='lightblue')\n",
    "\n",
    "plt.xlabel('Response Time (Seconds)')\n",
    "plt.ylabel('Density')\n",
    "plt.title('Response Time Distribution')\n",
    "\n",
    "plt.show()"
   ]
  }
 ],
 "metadata": {
  "kernelspec": {
   "display_name": "Python 3 (ipykernel)",
   "language": "python",
   "name": "python3"
  },
  "language_info": {
   "codemirror_mode": {
    "name": "ipython",
    "version": 3
   },
   "file_extension": ".py",
   "mimetype": "text/x-python",
   "name": "python",
   "nbconvert_exporter": "python",
   "pygments_lexer": "ipython3",
   "version": "3.9.16"
  }
 },
 "nbformat": 4,
 "nbformat_minor": 5
}
